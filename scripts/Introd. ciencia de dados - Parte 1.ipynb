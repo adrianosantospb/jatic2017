{
 "cells": [
  {
   "cell_type": "markdown",
   "metadata": {},
   "source": [
    "# Introdução  ao Pandas\n",
    "### Por Adriano Santos\n",
    "\n",
    "##### O que é?\n",
    "\n",
    "O Pandas é uma biblioteca open-source, em Python, para análise de dados."
   ]
  },
  {
   "cell_type": "code",
   "execution_count": 1,
   "metadata": {
    "collapsed": true
   },
   "outputs": [],
   "source": [
    "# Importando o módulo Pandas\n",
    "\n",
    "import pandas as pd"
   ]
  },
  {
   "cell_type": "markdown",
   "metadata": {},
   "source": [
    "## Iniciando os trabalhos com Pandas Series\n",
    "\n",
    "###### Quando trabalhamos com um vetor de uma única dimensão, devemos transformá-lo para uma Serie do Pandas\n",
    "###### Uma série é um objeto unidemensional similar a um vetor, lista, ou coluna numa matriz ou tabela."
   ]
  },
  {
   "cell_type": "code",
   "execution_count": 2,
   "metadata": {
    "collapsed": false
   },
   "outputs": [
    {
     "name": "stdout",
     "output_type": "stream",
     "text": [
      "[23, 25, 24, 25, 15, 25, 27, 25]\n",
      "<class 'list'>\n"
     ]
    }
   ],
   "source": [
    "# Criando um vetor de idades\n",
    "idade = [23, 25, 24, 25, 15, 25, 27, 25]\n",
    "print (idade) # Imprime o vetor\n",
    "print (type(idade)) # Imprime o tipo"
   ]
  },
  {
   "cell_type": "code",
   "execution_count": null,
   "metadata": {
    "collapsed": false
   },
   "outputs": [],
   "source": [
    "# Realizando algumas operações com o vetor criado\n",
    "print ('Soma:', sum(idade))\n",
    "print ('Valor máximo:', max(idade))\n",
    "print ('Velor mínimo:', min(idade))\n",
    "\n",
    "# Se você desejar realizar mais operações matemáticas, importe o módulo math (import math)\n"
   ]
  },
  {
   "cell_type": "code",
   "execution_count": null,
   "metadata": {
    "collapsed": false
   },
   "outputs": [],
   "source": [
    "# Transformando o vetor em uma série\n",
    "idade_pd = pd.Series(idade, name='idades') # O primeiro parâmetro é o vetor que será convertido. O segundo, o nome da série\n",
    "print (idade_pd)\n",
    "print (type(idade_pd))"
   ]
  },
  {
   "cell_type": "code",
   "execution_count": null,
   "metadata": {
    "collapsed": false
   },
   "outputs": [],
   "source": [
    "# Análise descritiva\n",
    "print ('Quantidade: %.d' % idade_pd.count())\n",
    "print('Soma: %.d' % idade_pd.sum())\n",
    "print('Máximo: %.d' % idade_pd.max())\n",
    "print('Mínimo: %.d' % idade_pd.min())\n",
    "print('Média: %.4f' % idade_pd.mean())\n",
    "print('Moda: %.d' % idade_pd.mode())\n",
    "print('Mediana: %.4f' % idade_pd.median())\n",
    "print ('Variância: %.4f' % idade_pd.var())\n",
    "print ('Desvio Padrão: %.4f' % idade_pd.std())\n",
    "print ('Sumário: \\n', idade_pd.describe())"
   ]
  },
  {
   "cell_type": "markdown",
   "metadata": {},
   "source": [
    "### Iniciando os trabalhos com Pandas DataFrame\n",
    "\n",
    "##### DataFrame é uma estrutura de dados tabular de duas dimensões  composta de colunas e linhas indexadas, similar a uma tabela de excel. \n"
   ]
  },
  {
   "cell_type": "code",
   "execution_count": 3,
   "metadata": {
    "collapsed": false
   },
   "outputs": [
    {
     "name": "stdout",
     "output_type": "stream",
     "text": [
      "[56, 78, 86, 88, 66, 77, 89, 90]\n",
      "[(23, 56), (25, 78), (24, 86), (25, 88), (15, 66), (25, 77), (27, 89), (25, 90)]\n"
     ]
    }
   ],
   "source": [
    "# Utilizarei o vetor idade, criado no início do script e criarei um vetor peso\n",
    "peso = [56, 78, 86, 88, 66, 77, 89, 90]\n",
    "print (peso)\n",
    "# Criando um dataset\n",
    "dados = list(zip(idade,peso)) # a função zip realiza um merge entre os vetores\n",
    "print (dados)"
   ]
  },
  {
   "cell_type": "code",
   "execution_count": 4,
   "metadata": {
    "collapsed": false
   },
   "outputs": [
    {
     "name": "stdout",
     "output_type": "stream",
     "text": [
      "   Idades  Pesos\n",
      "0      23     56\n",
      "1      25     78\n",
      "2      24     86\n",
      "3      25     88\n",
      "4      15     66\n",
      "5      25     77\n",
      "6      27     89\n",
      "7      25     90\n"
     ]
    }
   ],
   "source": [
    "# Criando um dataframe (dados) com os vetores de idade e peso\n",
    "\n",
    "df_pd = pd.DataFrame(data=dados, columns=['Idades', 'Pesos'])\n",
    "print (df_pd)"
   ]
  },
  {
   "cell_type": "code",
   "execution_count": 11,
   "metadata": {
    "collapsed": false
   },
   "outputs": [
    {
     "data": {
      "text/html": [
       "<div>\n",
       "<style>\n",
       "    .dataframe thead tr:only-child th {\n",
       "        text-align: right;\n",
       "    }\n",
       "\n",
       "    .dataframe thead th {\n",
       "        text-align: left;\n",
       "    }\n",
       "\n",
       "    .dataframe tbody tr th {\n",
       "        vertical-align: top;\n",
       "    }\n",
       "</style>\n",
       "<table border=\"1\" class=\"dataframe\">\n",
       "  <thead>\n",
       "    <tr style=\"text-align: right;\">\n",
       "      <th></th>\n",
       "      <th>Idades</th>\n",
       "      <th>Pesos</th>\n",
       "    </tr>\n",
       "  </thead>\n",
       "  <tbody>\n",
       "    <tr>\n",
       "      <th>count</th>\n",
       "      <td>8.000000</td>\n",
       "      <td>8.000000</td>\n",
       "    </tr>\n",
       "    <tr>\n",
       "      <th>mean</th>\n",
       "      <td>23.625000</td>\n",
       "      <td>78.750000</td>\n",
       "    </tr>\n",
       "    <tr>\n",
       "      <th>std</th>\n",
       "      <td>3.662064</td>\n",
       "      <td>12.267844</td>\n",
       "    </tr>\n",
       "    <tr>\n",
       "      <th>min</th>\n",
       "      <td>15.000000</td>\n",
       "      <td>56.000000</td>\n",
       "    </tr>\n",
       "    <tr>\n",
       "      <th>25%</th>\n",
       "      <td>23.750000</td>\n",
       "      <td>74.250000</td>\n",
       "    </tr>\n",
       "    <tr>\n",
       "      <th>50%</th>\n",
       "      <td>25.000000</td>\n",
       "      <td>82.000000</td>\n",
       "    </tr>\n",
       "    <tr>\n",
       "      <th>75%</th>\n",
       "      <td>25.000000</td>\n",
       "      <td>88.250000</td>\n",
       "    </tr>\n",
       "    <tr>\n",
       "      <th>max</th>\n",
       "      <td>27.000000</td>\n",
       "      <td>90.000000</td>\n",
       "    </tr>\n",
       "  </tbody>\n",
       "</table>\n",
       "</div>"
      ],
      "text/plain": [
       "          Idades      Pesos\n",
       "count   8.000000   8.000000\n",
       "mean   23.625000  78.750000\n",
       "std     3.662064  12.267844\n",
       "min    15.000000  56.000000\n",
       "25%    23.750000  74.250000\n",
       "50%    25.000000  82.000000\n",
       "75%    25.000000  88.250000\n",
       "max    27.000000  90.000000"
      ]
     },
     "execution_count": 11,
     "metadata": {},
     "output_type": "execute_result"
    }
   ],
   "source": [
    "# As mesmas operações descritivas podem ser realizadas no dataframe...\n",
    "df_pd.describe() # Para todos."
   ]
  },
  {
   "cell_type": "code",
   "execution_count": 13,
   "metadata": {
    "collapsed": false
   },
   "outputs": [
    {
     "data": {
      "text/plain": [
       "23.625"
      ]
     },
     "execution_count": 13,
     "metadata": {},
     "output_type": "execute_result"
    }
   ],
   "source": [
    "# Para analisar uma coluna, em especial, faça:\n",
    "df_pd['Idades'].mean()"
   ]
  },
  {
   "cell_type": "code",
   "execution_count": 22,
   "metadata": {
    "collapsed": false
   },
   "outputs": [
    {
     "name": "stdout",
     "output_type": "stream",
     "text": [
      "   Idades  Pesos  Alturas\n",
      "0      23     56     1.56\n",
      "1      25     78     1.78\n",
      "2      24     86     1.89\n",
      "3      25     88     1.67\n",
      "4      15     66     1.58\n",
      "5      25     77     1.90\n",
      "6      27     89     1.87\n",
      "7      25     90     1.76\n"
     ]
    }
   ],
   "source": [
    "# Para adicionar uma nova coluna, ao dataframe faça:\n",
    "altura = [1.56, 1.78, 1.89, 1.67, 1.58, 1.90, 1.87, 1.76]\n",
    "df_pd['Alturas'] = altura\n",
    "print (df_pd)"
   ]
  },
  {
   "cell_type": "code",
   "execution_count": null,
   "metadata": {
    "collapsed": false
   },
   "outputs": [],
   "source": []
  }
 ],
 "metadata": {
  "kernelspec": {
   "display_name": "Intel Python 3 2018",
   "language": "python",
   "name": "python3"
  },
  "language_info": {
   "codemirror_mode": {
    "name": "ipython",
    "version": 3
   },
   "file_extension": ".py",
   "mimetype": "text/x-python",
   "name": "python",
   "nbconvert_exporter": "python",
   "pygments_lexer": "ipython3",
   "version": "3.6.2"
  }
 },
 "nbformat": 4,
 "nbformat_minor": 2
}
