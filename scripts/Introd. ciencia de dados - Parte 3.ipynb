{
 "cells": [
  {
   "cell_type": "markdown",
   "metadata": {},
   "source": [
    "### Realizando limpeza dos dados\n",
    "##### Por Adriano Santos\n",
    "\n",
    "###### Dentre as atividades que um cientista de dados deve realizar, o processo de limpeza e tratamento é uma das mais importantes.\n",
    "\n",
    "Nesta aula aprenderemos a:\n",
    "\n",
    "* Remover informações de um DataFrame;\n"
   ]
  },
  {
   "cell_type": "code",
   "execution_count": 1,
   "metadata": {
    "collapsed": true
   },
   "outputs": [],
   "source": [
    "# Carregando módulos \n",
    "import pandas as pd"
   ]
  },
  {
   "cell_type": "code",
   "execution_count": 5,
   "metadata": {
    "collapsed": false
   },
   "outputs": [
    {
     "name": "stdout",
     "output_type": "stream",
     "text": [
      "       Country                 Region  Population  Under15  Over60  \\\n",
      "0  Afghanistan  Eastern Mediterranean       29825    47.42    3.82   \n",
      "1      Albania                 Europe        3162    21.33   14.93   \n",
      "2      Algeria                 Africa       38482    27.42    7.17   \n",
      "3      Andorra                 Europe          78    15.20   22.86   \n",
      "4       Angola                 Africa       20821    47.58    3.84   \n",
      "\n",
      "   FertilityRate  LifeExpectancy  ChildMortality  CellularSubscribers  \\\n",
      "0           5.40              60            98.5                54.26   \n",
      "1           1.75              74            16.7                96.39   \n",
      "2           2.83              73            20.0                98.99   \n",
      "3            NaN              82             3.2                75.49   \n",
      "4           6.10              51           163.5                48.38   \n",
      "\n",
      "   LiteracyRate     GNI  PrimarySchoolEnrollmentMale  \\\n",
      "0           NaN  1140.0                          NaN   \n",
      "1           NaN  8820.0                          NaN   \n",
      "2           NaN  8310.0                         98.2   \n",
      "3           NaN     NaN                         78.4   \n",
      "4          70.1  5230.0                         93.1   \n",
      "\n",
      "   PrimarySchoolEnrollmentFemale  \n",
      "0                            NaN  \n",
      "1                            NaN  \n",
      "2                           96.4  \n",
      "3                           79.4  \n",
      "4                           78.2  \n"
     ]
    }
   ],
   "source": [
    "# Importando os dados para manipulação\n",
    "df = pd.read_csv('../Dados/WHO.csv', delimiter=',')\n",
    "print (df.head())"
   ]
  },
  {
   "cell_type": "markdown",
   "metadata": {},
   "source": [
    "##### Verificando a existência de dados missing (NaN)"
   ]
  },
  {
   "cell_type": "code",
   "execution_count": 21,
   "metadata": {
    "collapsed": false
   },
   "outputs": [
    {
     "data": {
      "text/plain": [
       "Country                          False\n",
       "Region                           False\n",
       "Population                       False\n",
       "Under15                          False\n",
       "Over60                           False\n",
       "FertilityRate                     True\n",
       "LifeExpectancy                   False\n",
       "ChildMortality                   False\n",
       "CellularSubscribers               True\n",
       "LiteracyRate                      True\n",
       "GNI                               True\n",
       "PrimarySchoolEnrollmentMale       True\n",
       "PrimarySchoolEnrollmentFemale     True\n",
       "dtype: bool"
      ]
     },
     "execution_count": 21,
     "metadata": {},
     "output_type": "execute_result"
    }
   ],
   "source": [
    "# O any() possibibilitará saber, coluna a coluna, se qualquer um dos valores é inexistente.\n",
    "df.isnull().any()\n"
   ]
  },
  {
   "cell_type": "code",
   "execution_count": 19,
   "metadata": {
    "collapsed": false
   },
   "outputs": [
    {
     "name": "stdout",
     "output_type": "stream",
     "text": [
      "Country                          False\n",
      "Region                           False\n",
      "Population                       False\n",
      "Under15                          False\n",
      "Over60                           False\n",
      "FertilityRate                    False\n",
      "LifeExpectancy                   False\n",
      "ChildMortality                   False\n",
      "CellularSubscribers              False\n",
      "LiteracyRate                     False\n",
      "GNI                              False\n",
      "PrimarySchoolEnrollmentMale      False\n",
      "PrimarySchoolEnrollmentFemale    False\n",
      "dtype: bool\n",
      "Número de registros: (194, 13)\n"
     ]
    }
   ],
   "source": [
    "# Possibilitirá se existe alguma coluna em branco.\n",
    "print (df.isnull().all())\n",
    "print ('Número de registros:', df.shape)"
   ]
  },
  {
   "cell_type": "code",
   "execution_count": 56,
   "metadata": {
    "collapsed": false
   },
   "outputs": [
    {
     "name": "stdout",
     "output_type": "stream",
     "text": [
      "Número de registros: 50\n"
     ]
    },
    {
     "data": {
      "text/plain": [
       "Country                          False\n",
       "Region                           False\n",
       "Population                       False\n",
       "Under15                          False\n",
       "Over60                           False\n",
       "FertilityRate                    False\n",
       "LifeExpectancy                   False\n",
       "ChildMortality                   False\n",
       "CellularSubscribers              False\n",
       "LiteracyRate                     False\n",
       "GNI                              False\n",
       "PrimarySchoolEnrollmentMale      False\n",
       "PrimarySchoolEnrollmentFemale    False\n",
       "dtype: bool"
      ]
     },
     "execution_count": 56,
     "metadata": {},
     "output_type": "execute_result"
    }
   ],
   "source": [
    "# O comando dropna() remove do DataFrame qualquer linha que tenha pelo menos um NaN.\n",
    "df.dropna(inplace=True)  # thresh=2 -> se tiver mais de dois NaN; how='all' se tiver uma linha completa em NaN\n",
    "print ('Número de registros:', df['Country'].count())\n",
    "df.isnull().any()"
   ]
  },
  {
   "cell_type": "code",
   "execution_count": 45,
   "metadata": {
    "collapsed": false
   },
   "outputs": [
    {
     "name": "stdout",
     "output_type": "stream",
     "text": [
      "(194, 13)\n"
     ]
    }
   ],
   "source": [
    "# Carrega os dados novamente para iniciarmos outras formas de ajustes de dados.\n",
    "df = pd.read_csv('../Dados/WHO.csv', delimiter=',')\n",
    "print (df.shape)"
   ]
  },
  {
   "cell_type": "code",
   "execution_count": 46,
   "metadata": {
    "collapsed": false
   },
   "outputs": [
    {
     "name": "stdout",
     "output_type": "stream",
     "text": [
      "Registros: 183\n"
     ]
    },
    {
     "data": {
      "text/plain": [
       "0    5.40\n",
       "1    1.75\n",
       "2    2.83\n",
       "3     NaN\n",
       "4    6.10\n",
       "Name: FertilityRate, dtype: float64"
      ]
     },
     "execution_count": 46,
     "metadata": {},
     "output_type": "execute_result"
    }
   ],
   "source": [
    "# Caso você queira preencher os valores inexistentes, você deve usar a função fillna()\n",
    "df.isnull().any()\n",
    "# Iremos preencher os valores NaN da coluna \n",
    "print('Registros:', df['FertilityRate'].count())\n",
    "df['FertilityRate'].head()"
   ]
  },
  {
   "cell_type": "code",
   "execution_count": 47,
   "metadata": {
    "collapsed": false
   },
   "outputs": [
    {
     "name": "stdout",
     "output_type": "stream",
     "text": [
      "Número de registros: 194\n"
     ]
    },
    {
     "data": {
      "text/plain": [
       "0    5.400000\n",
       "1    1.750000\n",
       "2    2.830000\n",
       "3    2.940656\n",
       "4    6.100000\n",
       "Name: FertilityRate, dtype: float64"
      ]
     },
     "execution_count": 47,
     "metadata": {},
     "output_type": "execute_result"
    }
   ],
   "source": [
    "# Preenchendo os valores com os valores da média\n",
    "df['FertilityRate'].fillna(df['FertilityRate'].mean(),inplace=True)\n",
    "print('Número de registros:',  df['FertilityRate'].count())\n",
    "df['FertilityRate'].head()\n"
   ]
  },
  {
   "cell_type": "markdown",
   "metadata": {},
   "source": [
    "###### Comandos para remoção de coluna"
   ]
  },
  {
   "cell_type": "code",
   "execution_count": 48,
   "metadata": {
    "collapsed": false
   },
   "outputs": [
    {
     "name": "stdout",
     "output_type": "stream",
     "text": [
      "Index(['Country', 'Region', 'Population', 'Under15', 'Over60', 'FertilityRate',\n",
      "       'LifeExpectancy', 'ChildMortality', 'LiteracyRate', 'GNI',\n",
      "       'PrimarySchoolEnrollmentMale', 'PrimarySchoolEnrollmentFemale'],\n",
      "      dtype='object')\n"
     ]
    }
   ],
   "source": [
    "# Para remover, faça:\n",
    "df.drop('CellularSubscribers', axis=1, inplace=True) # axis 1 = coluna; axis 0 = linha.\n",
    "print (df.columns)\n"
   ]
  },
  {
   "cell_type": "code",
   "execution_count": 52,
   "metadata": {
    "collapsed": false
   },
   "outputs": [
    {
     "name": "stdout",
     "output_type": "stream",
     "text": [
      "0    False\n",
      "1    False\n",
      "2    False\n",
      "3     True\n",
      "4     True\n",
      "dtype: bool\n"
     ]
    }
   ],
   "source": [
    "# Avaliando se existe duplicata \n",
    "print(df.duplicated('Region').head())"
   ]
  }
 ],
 "metadata": {
  "kernelspec": {
   "display_name": "Intel Python 3 2018",
   "language": "python",
   "name": "python3"
  },
  "language_info": {
   "codemirror_mode": {
    "name": "ipython",
    "version": 3
   },
   "file_extension": ".py",
   "mimetype": "text/x-python",
   "name": "python",
   "nbconvert_exporter": "python",
   "pygments_lexer": "ipython3",
   "version": "3.6.2"
  }
 },
 "nbformat": 4,
 "nbformat_minor": 2
}
