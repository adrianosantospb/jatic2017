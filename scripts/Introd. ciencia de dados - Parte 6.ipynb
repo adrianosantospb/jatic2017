{
 "cells": [
  {
   "cell_type": "markdown",
   "metadata": {},
   "source": [
    "# Exemplo de aplicação do algoritmo kNN (para classificação)\n",
    "\n",
    "## Por: Adriano Santos\n",
    "\n",
    "### O K-Nearest Neighbor (kNN) é um dos algoritmos de classificação mais simples. É utilizado para classificar objetos com base em exemplos de treinamento (modelo supervisionado) que estão mais próximos no espaço de características.\n",
    "\n",
    "#### Para que seja possível a sua utilização, se faz necessário:\n",
    "\n",
    "- a) Um conjunto de exemplos de treinamento; \n",
    "- b) Definir uma métrica para o cálculo das distâncias entre os elementos e\n",
    "- c) Definir o valor de K (número de vizinhos mais próximos a serem considerados no algoritmo.)\n",
    "\n",
    "#### No exemplo a seguir, foram utilizados os módulos:\n",
    "\n",
    "- a) train_test_split: para selecionar aleatoriamente os elementos para treinamento e teste.\n",
    "- b) KNeighborsClassifier: implementação do algoritmo do kNN\n",
    "- c) pandas: módulo para análise de dados em Python\n",
    "- d) numpy: módulo que contém uma coleção de funções matemáticas para trabalhar com estas estruturas."
   ]
  },
  {
   "cell_type": "code",
   "execution_count": 1,
   "metadata": {
    "collapsed": true
   },
   "outputs": [],
   "source": [
    "# Importando as biblitecas necessárias\n",
    "from sklearn.model_selection import train_test_split # Modulo utilizado para selecionar dados de treino e teste randomizados\n",
    "from sklearn.neighbors import KNeighborsClassifier # Modulo para utilização do kNN \n",
    "from sklearn.metrics import accuracy_score # Análise de acurancia\n",
    "import pandas as pd\n",
    "import numpy as np"
   ]
  },
  {
   "cell_type": "code",
   "execution_count": 2,
   "metadata": {
    "collapsed": false
   },
   "outputs": [
    {
     "data": {
      "text/html": [
       "<div>\n",
       "<style>\n",
       "    .dataframe thead tr:only-child th {\n",
       "        text-align: right;\n",
       "    }\n",
       "\n",
       "    .dataframe thead th {\n",
       "        text-align: left;\n",
       "    }\n",
       "\n",
       "    .dataframe tbody tr th {\n",
       "        vertical-align: top;\n",
       "    }\n",
       "</style>\n",
       "<table border=\"1\" class=\"dataframe\">\n",
       "  <thead>\n",
       "    <tr style=\"text-align: right;\">\n",
       "      <th></th>\n",
       "      <th>prenatal</th>\n",
       "      <th>CMI_binario</th>\n",
       "      <th>CMI</th>\n",
       "      <th>renda</th>\n",
       "      <th>saneamento</th>\n",
       "      <th>desemprego</th>\n",
       "      <th>analfabet</th>\n",
       "      <th>Gini</th>\n",
       "      <th>fundamental</th>\n",
       "      <th>PIB_per_capita</th>\n",
       "    </tr>\n",
       "  </thead>\n",
       "  <tbody>\n",
       "    <tr>\n",
       "      <th>0</th>\n",
       "      <td>48.30</td>\n",
       "      <td>1</td>\n",
       "      <td>16.248154</td>\n",
       "      <td>467.72</td>\n",
       "      <td>0.288858</td>\n",
       "      <td>5.01</td>\n",
       "      <td>12.0</td>\n",
       "      <td>0.5893</td>\n",
       "      <td>37.29</td>\n",
       "      <td>13760.40</td>\n",
       "    </tr>\n",
       "    <tr>\n",
       "      <th>1</th>\n",
       "      <td>54.04</td>\n",
       "      <td>0</td>\n",
       "      <td>13.203787</td>\n",
       "      <td>672.87</td>\n",
       "      <td>1.174262</td>\n",
       "      <td>4.64</td>\n",
       "      <td>7.9</td>\n",
       "      <td>0.5496</td>\n",
       "      <td>51.30</td>\n",
       "      <td>14315.36</td>\n",
       "    </tr>\n",
       "    <tr>\n",
       "      <th>2</th>\n",
       "      <td>40.50</td>\n",
       "      <td>1</td>\n",
       "      <td>14.462810</td>\n",
       "      <td>446.58</td>\n",
       "      <td>0.101266</td>\n",
       "      <td>2.49</td>\n",
       "      <td>13.8</td>\n",
       "      <td>0.5166</td>\n",
       "      <td>36.59</td>\n",
       "      <td>15745.16</td>\n",
       "    </tr>\n",
       "    <tr>\n",
       "      <th>3</th>\n",
       "      <td>59.42</td>\n",
       "      <td>0</td>\n",
       "      <td>14.039051</td>\n",
       "      <td>718.79</td>\n",
       "      <td>40.103242</td>\n",
       "      <td>5.87</td>\n",
       "      <td>8.3</td>\n",
       "      <td>0.5890</td>\n",
       "      <td>48.49</td>\n",
       "      <td>14870.59</td>\n",
       "    </tr>\n",
       "    <tr>\n",
       "      <th>4</th>\n",
       "      <td>52.52</td>\n",
       "      <td>1</td>\n",
       "      <td>16.806723</td>\n",
       "      <td>553.47</td>\n",
       "      <td>0.093493</td>\n",
       "      <td>5.24</td>\n",
       "      <td>10.4</td>\n",
       "      <td>0.5147</td>\n",
       "      <td>44.23</td>\n",
       "      <td>15997.56</td>\n",
       "    </tr>\n",
       "  </tbody>\n",
       "</table>\n",
       "</div>"
      ],
      "text/plain": [
       "   prenatal  CMI_binario        CMI   renda  saneamento  desemprego  \\\n",
       "0     48.30            1  16.248154  467.72    0.288858        5.01   \n",
       "1     54.04            0  13.203787  672.87    1.174262        4.64   \n",
       "2     40.50            1  14.462810  446.58    0.101266        2.49   \n",
       "3     59.42            0  14.039051  718.79   40.103242        5.87   \n",
       "4     52.52            1  16.806723  553.47    0.093493        5.24   \n",
       "\n",
       "   analfabet    Gini  fundamental  PIB_per_capita  \n",
       "0       12.0  0.5893        37.29        13760.40  \n",
       "1        7.9  0.5496        51.30        14315.36  \n",
       "2       13.8  0.5166        36.59        15745.16  \n",
       "3        8.3  0.5890        48.49        14870.59  \n",
       "4       10.4  0.5147        44.23        15997.56  "
      ]
     },
     "execution_count": 2,
     "metadata": {},
     "output_type": "execute_result"
    }
   ],
   "source": [
    "# Importando o dataset\n",
    "df = pd.read_csv('../Dados/bancoCMI.csv', delimiter=';')\n",
    "df.head() # Mostra os 5 primeiros registros"
   ]
  },
  {
   "cell_type": "code",
   "execution_count": 8,
   "metadata": {
    "collapsed": true
   },
   "outputs": [],
   "source": [
    "# Criando dados para treinamento e teste\n",
    "# Foram removidas as colunas CMI (porque tem relação direta com CMI_binario e fundamental)\n",
    "x_treino, x_teste, y_treino, y_teste  = train_test_split(df[['prenatal','renda', 'saneamento', 'desemprego', 'Gini', 'PIB_per_capita']], df['CMI_binario'], test_size=0.3, random_state=1000) # test_size (quanto será utilizado para teste), random_state (semente utilizada)"
   ]
  },
  {
   "cell_type": "code",
   "execution_count": 11,
   "metadata": {
    "collapsed": false
   },
   "outputs": [
    {
     "name": "stdout",
     "output_type": "stream",
     "text": [
      "(3895, 6)\n",
      "(1670, 6)\n",
      "(3895,)\n",
      "(1670,)\n"
     ]
    }
   ],
   "source": [
    "print(x_treino.shape)\n",
    "print(x_teste.shape)\n",
    "print(y_treino.shape)\n",
    "print(y_teste.shape)"
   ]
  },
  {
   "cell_type": "code",
   "execution_count": 12,
   "metadata": {
    "collapsed": false
   },
   "outputs": [
    {
     "data": {
      "text/plain": [
       "KNeighborsClassifier(algorithm='auto', leaf_size=30, metric='minkowski',\n",
       "           metric_params=None, n_jobs=1, n_neighbors=10, p=2,\n",
       "           weights='uniform')"
      ]
     },
     "execution_count": 12,
     "metadata": {},
     "output_type": "execute_result"
    }
   ],
   "source": [
    "# Treinar o modelo\n",
    "knn = KNeighborsClassifier(n_neighbors=10, p=2) # Determina a vizinhança. p = 2 > Dist. Euclidiana; p=1 > Dist. Manhattan \n",
    "knn.fit(x_treino, y_treino) # Realiza o treinamento"
   ]
  },
  {
   "cell_type": "code",
   "execution_count": 13,
   "metadata": {
    "collapsed": true
   },
   "outputs": [],
   "source": [
    "# Realizar a classificação\n",
    "resultado = knn.predict(x_teste) # Cria modelo de predição"
   ]
  },
  {
   "cell_type": "code",
   "execution_count": 14,
   "metadata": {
    "collapsed": true
   },
   "outputs": [],
   "source": [
    "# Analisando os resultados de acordo com o modelo treinado\n",
    "acertos = np.sum(resultado == y_teste)"
   ]
  },
  {
   "cell_type": "code",
   "execution_count": 16,
   "metadata": {
    "collapsed": false
   },
   "outputs": [
    {
     "name": "stdout",
     "output_type": "stream",
     "text": [
      "Total da amostras: 5565\n",
      "Total utilizados para treinamento: 3895\n",
      "Total utilizados para teste: 1670\n",
      "Total de acertos 962\n",
      "Total de erros 708\n",
      "Porcentagem de acertos: 57.60 %\n",
      "Acurácia do teste: 0\n"
     ]
    }
   ],
   "source": [
    "# Resultados\n",
    "print ('Total da amostras: %d' % (len(x_treino)+ len(x_teste)))\n",
    "print ('Total utilizados para treinamento: %d' % len(x_treino))\n",
    "print ('Total utilizados para teste: %d' % len(x_teste))\n",
    "print ('Total de acertos %d' % acertos)\n",
    "print ('Total de erros %d' % ( len(x_teste) - acertos))\n",
    "print ('Porcentagem de acertos: %.2f' % (100 * acertos/ len(x_teste)) ,'%')"
   ]
  }
 ],
 "metadata": {
  "kernelspec": {
   "display_name": "Intel Python 3 2018",
   "language": "python",
   "name": "python3"
  },
  "language_info": {
   "codemirror_mode": {
    "name": "ipython",
    "version": 3
   },
   "file_extension": ".py",
   "mimetype": "text/x-python",
   "name": "python",
   "nbconvert_exporter": "python",
   "pygments_lexer": "ipython3",
   "version": "3.6.2"
  }
 },
 "nbformat": 4,
 "nbformat_minor": 2
}
