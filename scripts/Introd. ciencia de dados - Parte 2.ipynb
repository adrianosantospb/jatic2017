{
 "cells": [
  {
   "cell_type": "markdown",
   "metadata": {},
   "source": [
    "# Trabalhando com arquivos CSV - Parte 2\n",
    "### Por Adriano Santos"
   ]
  },
  {
   "cell_type": "code",
   "execution_count": 2,
   "metadata": {
    "collapsed": true
   },
   "outputs": [],
   "source": [
    "# Importando o módulo\n",
    "import pandas as pd"
   ]
  },
  {
   "cell_type": "markdown",
   "metadata": {},
   "source": [
    "## Importando dados de arquivos\n",
    "\n",
    "#### Importaremos dados do tipo: csv\n",
    "\n",
    "###### Informações sobre o dataset\n",
    "- Base de Coeficiente de Mortalidade Infantil (CMI)\n",
    "* CMI_binario (binária): se o município tem CMI acima ou abaixo da mediana nacional.\n",
    "* Prenatal: dados sobre o acompanhamento do prenatal dos municípios.\n",
    "* CMI: valor do CMI (dados contínuos)\n",
    "* Renda: renda per capita\n",
    "* Saneamento: ações de saneamento\n",
    "* Desemprego: indice de desemprego\n",
    "* Analfabetismo: indice de analfabetismo\n",
    "* GINI: desigualdade de distribuição de renda.\n",
    "* fundamental: indice de ensino fundamental.\n",
    "* PIB_per_capita: é o produto interno bruto, dividido pela quantidade de habitantes de um país (no caso, do município).\n",
    "\n"
   ]
  },
  {
   "cell_type": "code",
   "execution_count": 3,
   "metadata": {
    "collapsed": false
   },
   "outputs": [
    {
     "data": {
      "text/html": [
       "<div>\n",
       "<style>\n",
       "    .dataframe thead tr:only-child th {\n",
       "        text-align: right;\n",
       "    }\n",
       "\n",
       "    .dataframe thead th {\n",
       "        text-align: left;\n",
       "    }\n",
       "\n",
       "    .dataframe tbody tr th {\n",
       "        vertical-align: top;\n",
       "    }\n",
       "</style>\n",
       "<table border=\"1\" class=\"dataframe\">\n",
       "  <thead>\n",
       "    <tr style=\"text-align: right;\">\n",
       "      <th></th>\n",
       "      <th>prenatal</th>\n",
       "      <th>CMI_binario</th>\n",
       "      <th>CMI</th>\n",
       "      <th>renda</th>\n",
       "      <th>saneamento</th>\n",
       "      <th>desemprego</th>\n",
       "      <th>analfabet</th>\n",
       "      <th>Gini</th>\n",
       "      <th>fundamental</th>\n",
       "      <th>PIB_per_capita</th>\n",
       "    </tr>\n",
       "  </thead>\n",
       "  <tbody>\n",
       "    <tr>\n",
       "      <th>0</th>\n",
       "      <td>48.30</td>\n",
       "      <td>1</td>\n",
       "      <td>16.248154</td>\n",
       "      <td>467.72</td>\n",
       "      <td>0.288858</td>\n",
       "      <td>5.01</td>\n",
       "      <td>12.0</td>\n",
       "      <td>0.5893</td>\n",
       "      <td>37.29</td>\n",
       "      <td>13760.40</td>\n",
       "    </tr>\n",
       "    <tr>\n",
       "      <th>1</th>\n",
       "      <td>54.04</td>\n",
       "      <td>0</td>\n",
       "      <td>13.203787</td>\n",
       "      <td>672.87</td>\n",
       "      <td>1.174262</td>\n",
       "      <td>4.64</td>\n",
       "      <td>7.9</td>\n",
       "      <td>0.5496</td>\n",
       "      <td>51.30</td>\n",
       "      <td>14315.36</td>\n",
       "    </tr>\n",
       "    <tr>\n",
       "      <th>2</th>\n",
       "      <td>40.50</td>\n",
       "      <td>1</td>\n",
       "      <td>14.462810</td>\n",
       "      <td>446.58</td>\n",
       "      <td>0.101266</td>\n",
       "      <td>2.49</td>\n",
       "      <td>13.8</td>\n",
       "      <td>0.5166</td>\n",
       "      <td>36.59</td>\n",
       "      <td>15745.16</td>\n",
       "    </tr>\n",
       "    <tr>\n",
       "      <th>3</th>\n",
       "      <td>59.42</td>\n",
       "      <td>0</td>\n",
       "      <td>14.039051</td>\n",
       "      <td>718.79</td>\n",
       "      <td>40.103242</td>\n",
       "      <td>5.87</td>\n",
       "      <td>8.3</td>\n",
       "      <td>0.5890</td>\n",
       "      <td>48.49</td>\n",
       "      <td>14870.59</td>\n",
       "    </tr>\n",
       "    <tr>\n",
       "      <th>4</th>\n",
       "      <td>52.52</td>\n",
       "      <td>1</td>\n",
       "      <td>16.806723</td>\n",
       "      <td>553.47</td>\n",
       "      <td>0.093493</td>\n",
       "      <td>5.24</td>\n",
       "      <td>10.4</td>\n",
       "      <td>0.5147</td>\n",
       "      <td>44.23</td>\n",
       "      <td>15997.56</td>\n",
       "    </tr>\n",
       "  </tbody>\n",
       "</table>\n",
       "</div>"
      ],
      "text/plain": [
       "   prenatal  CMI_binario        CMI   renda  saneamento  desemprego  \\\n",
       "0     48.30            1  16.248154  467.72    0.288858        5.01   \n",
       "1     54.04            0  13.203787  672.87    1.174262        4.64   \n",
       "2     40.50            1  14.462810  446.58    0.101266        2.49   \n",
       "3     59.42            0  14.039051  718.79   40.103242        5.87   \n",
       "4     52.52            1  16.806723  553.47    0.093493        5.24   \n",
       "\n",
       "   analfabet    Gini  fundamental  PIB_per_capita  \n",
       "0       12.0  0.5893        37.29        13760.40  \n",
       "1        7.9  0.5496        51.30        14315.36  \n",
       "2       13.8  0.5166        36.59        15745.16  \n",
       "3        8.3  0.5890        48.49        14870.59  \n",
       "4       10.4  0.5147        44.23        15997.56  "
      ]
     },
     "execution_count": 3,
     "metadata": {},
     "output_type": "execute_result"
    }
   ],
   "source": [
    "# Criando um dataframe\n",
    "df = pd.read_csv('../Dados/bancoCMI.csv', delimiter=';')\n",
    "df.head() # Mostra os 5 primeiros registros"
   ]
  },
  {
   "cell_type": "code",
   "execution_count": 7,
   "metadata": {
    "collapsed": false
   },
   "outputs": [
    {
     "data": {
      "text/plain": [
       "prenatal            741.746363\n",
       "CMI_binario         695.999724\n",
       "CMI                 714.765161\n",
       "renda              1220.010277\n",
       "saneamento          724.834747\n",
       "desemprego          703.989846\n",
       "analfabet           710.370744\n",
       "Gini                696.021097\n",
       "fundamental         727.854673\n",
       "PIB_per_capita    45251.186844\n",
       "dtype: float64"
      ]
     },
     "execution_count": 7,
     "metadata": {},
     "output_type": "execute_result"
    }
   ],
   "source": [
    "# Sumariza os dados\n",
    "df.describe().mean()"
   ]
  },
  {
   "cell_type": "code",
   "execution_count": 5,
   "metadata": {
    "collapsed": false
   },
   "outputs": [
    {
     "data": {
      "text/html": [
       "<div>\n",
       "<style>\n",
       "    .dataframe thead tr:only-child th {\n",
       "        text-align: right;\n",
       "    }\n",
       "\n",
       "    .dataframe thead th {\n",
       "        text-align: left;\n",
       "    }\n",
       "\n",
       "    .dataframe tbody tr th {\n",
       "        vertical-align: top;\n",
       "    }\n",
       "</style>\n",
       "<table border=\"1\" class=\"dataframe\">\n",
       "  <thead>\n",
       "    <tr style=\"text-align: right;\">\n",
       "      <th></th>\n",
       "      <th>CMI</th>\n",
       "      <th>renda</th>\n",
       "    </tr>\n",
       "  </thead>\n",
       "  <tbody>\n",
       "    <tr>\n",
       "      <th>0</th>\n",
       "      <td>16.248154</td>\n",
       "      <td>467.72</td>\n",
       "    </tr>\n",
       "    <tr>\n",
       "      <th>1</th>\n",
       "      <td>13.203787</td>\n",
       "      <td>672.87</td>\n",
       "    </tr>\n",
       "    <tr>\n",
       "      <th>2</th>\n",
       "      <td>14.462810</td>\n",
       "      <td>446.58</td>\n",
       "    </tr>\n",
       "    <tr>\n",
       "      <th>3</th>\n",
       "      <td>14.039051</td>\n",
       "      <td>718.79</td>\n",
       "    </tr>\n",
       "    <tr>\n",
       "      <th>4</th>\n",
       "      <td>16.806723</td>\n",
       "      <td>553.47</td>\n",
       "    </tr>\n",
       "  </tbody>\n",
       "</table>\n",
       "</div>"
      ],
      "text/plain": [
       "         CMI   renda\n",
       "0  16.248154  467.72\n",
       "1  13.203787  672.87\n",
       "2  14.462810  446.58\n",
       "3  14.039051  718.79\n",
       "4  16.806723  553.47"
      ]
     },
     "execution_count": 5,
     "metadata": {},
     "output_type": "execute_result"
    }
   ],
   "source": [
    "# Selecionando apenas algumas colunas do dataframe\n",
    "novo_df = df[['CMI', 'renda']]\n",
    "novo_df.head()"
   ]
  },
  {
   "cell_type": "code",
   "execution_count": 6,
   "metadata": {
    "collapsed": false
   },
   "outputs": [
    {
     "data": {
      "text/html": [
       "<div>\n",
       "<style>\n",
       "    .dataframe thead tr:only-child th {\n",
       "        text-align: right;\n",
       "    }\n",
       "\n",
       "    .dataframe thead th {\n",
       "        text-align: left;\n",
       "    }\n",
       "\n",
       "    .dataframe tbody tr th {\n",
       "        vertical-align: top;\n",
       "    }\n",
       "</style>\n",
       "<table border=\"1\" class=\"dataframe\">\n",
       "  <thead>\n",
       "    <tr style=\"text-align: right;\">\n",
       "      <th></th>\n",
       "      <th>CMI</th>\n",
       "      <th>renda</th>\n",
       "    </tr>\n",
       "  </thead>\n",
       "  <tbody>\n",
       "    <tr>\n",
       "      <th>1</th>\n",
       "      <td>13.203787</td>\n",
       "      <td>672.87</td>\n",
       "    </tr>\n",
       "    <tr>\n",
       "      <th>2</th>\n",
       "      <td>14.462810</td>\n",
       "      <td>446.58</td>\n",
       "    </tr>\n",
       "    <tr>\n",
       "      <th>3</th>\n",
       "      <td>14.039051</td>\n",
       "      <td>718.79</td>\n",
       "    </tr>\n",
       "    <tr>\n",
       "      <th>10</th>\n",
       "      <td>14.282423</td>\n",
       "      <td>557.06</td>\n",
       "    </tr>\n",
       "    <tr>\n",
       "      <th>15</th>\n",
       "      <td>13.574661</td>\n",
       "      <td>720.94</td>\n",
       "    </tr>\n",
       "  </tbody>\n",
       "</table>\n",
       "</div>"
      ],
      "text/plain": [
       "          CMI   renda\n",
       "1   13.203787  672.87\n",
       "2   14.462810  446.58\n",
       "3   14.039051  718.79\n",
       "10  14.282423  557.06\n",
       "15  13.574661  720.94"
      ]
     },
     "execution_count": 6,
     "metadata": {},
     "output_type": "execute_result"
    }
   ],
   "source": [
    "# Selecionando um conjunto de colunas específicas de um dataframe de acordo com critérios\n",
    "\n",
    "df_media = df[df.CMI < 14.642856] # Seleciona apenas os dados que atendem ao critério de CMI < 14.642856\n",
    "df_media = df_media[['CMI', 'renda']]\n",
    "df_media.head()"
   ]
  }
 ],
 "metadata": {
  "kernelspec": {
   "display_name": "Intel Python 3 2018",
   "language": "python",
   "name": "python3"
  },
  "language_info": {
   "codemirror_mode": {
    "name": "ipython",
    "version": 3
   },
   "file_extension": ".py",
   "mimetype": "text/x-python",
   "name": "python",
   "nbconvert_exporter": "python",
   "pygments_lexer": "ipython3",
   "version": "3.6.2"
  }
 },
 "nbformat": 4,
 "nbformat_minor": 2
}
